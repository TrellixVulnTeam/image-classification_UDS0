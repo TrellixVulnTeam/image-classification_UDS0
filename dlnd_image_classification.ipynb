{
 "cells": [
  {
   "cell_type": "markdown",
   "metadata": {
    "collapsed": true
   },
   "source": [
    "# 图像分类\n",
    "\n",
    "在此项目中，你将对 [CIFAR-10 数据集](https://www.cs.toronto.edu/~kriz/cifar.html) 中的图片进行分类。该数据集包含飞机、猫狗和其他物体。\n",
    "\n",
    "## 获取数据\n",
    "\n",
    "下载 [CIFAR-10 数据集（Python版）](https://www.cs.toronto.edu/~kriz/cifar-10-python.tar.gz)。\n"
   ]
  },
  {
   "cell_type": "code",
   "execution_count": 1,
   "metadata": {},
   "outputs": [
    {
     "name": "stdout",
     "output_type": "stream",
     "text": [
      "All files found!\n"
     ]
    }
   ],
   "source": [
    "\"\"\"\n",
    "DON'T MODIFY ANYTHING IN THIS CELL THAT IS BELOW THIS LINE\n",
    "\"\"\"\n",
    "from urllib.request import urlretrieve\n",
    "from os.path import isfile, isdir\n",
    "from tqdm import tqdm\n",
    "import problem_unittests as tests\n",
    "import tarfile\n",
    "\n",
    "cifar10_dataset_folder_path = 'cifar-10-batches-py'\n",
    "\n",
    "# Use Floyd's cifar-10 dataset if present\n",
    "floyd_cifar10_location = '/input/cifar-10/python.tar.gz'\n",
    "if isfile(floyd_cifar10_location):\n",
    "    tar_gz_path = floyd_cifar10_location\n",
    "else:\n",
    "    tar_gz_path = 'cifar-10-python.tar.gz'\n",
    "\n",
    "class DLProgress(tqdm):\n",
    "    last_block = 0\n",
    "\n",
    "    def hook(self, block_num=1, block_size=1, total_size=None):\n",
    "        self.total = total_size\n",
    "        self.update((block_num - self.last_block) * block_size)\n",
    "        self.last_block = block_num\n",
    "\n",
    "if not isfile(tar_gz_path):\n",
    "    with DLProgress(unit='B', unit_scale=True, miniters=1, desc='CIFAR-10 Dataset') as pbar:\n",
    "        urlretrieve(\n",
    "            'https://www.cs.toronto.edu/~kriz/cifar-10-python.tar.gz',\n",
    "            tar_gz_path,\n",
    "            pbar.hook)\n",
    "\n",
    "if not isdir(cifar10_dataset_folder_path):\n",
    "    with tarfile.open(tar_gz_path) as tar:\n",
    "        tar.extractall()\n",
    "        tar.close()\n",
    "\n",
    "\n",
    "tests.test_folder_path(cifar10_dataset_folder_path)"
   ]
  },
  {
   "cell_type": "markdown",
   "metadata": {},
   "source": [
    "## 探索数据\n",
    "\n",
    "该数据集分成了几批次（batches），以免计算时内存不足。CIFAR-10 数据集包含 5 个部分，名称分别为 `data_batch_1`、`data_batch_2`，以此类推。每个部分都包含以下某个类别的标签和图片：\n",
    "\n",
    "* 飞机\n",
    "* 汽车\n",
    "* 鸟类\n",
    "* 猫\n",
    "* 鹿\n",
    "* 狗\n",
    "* 青蛙\n",
    "* 马\n",
    "* 船只\n",
    "* 卡车\n",
    "\n",
    "可以通过更改 `batch_id` 和 `sample_id` 探索下面的代码单元。`batch_id` 是数据集一个部分的 ID（1 到 5）。`sample_id` 是该部分中图片和标签对（label pair）的 ID。"
   ]
  },
  {
   "cell_type": "code",
   "execution_count": 2,
   "metadata": {},
   "outputs": [
    {
     "name": "stdout",
     "output_type": "stream",
     "text": [
      "\n",
      "Stats of batch 5:\n",
      "Samples: 10000\n",
      "Label Counts: {0: 1014, 1: 1014, 2: 952, 3: 1016, 4: 997, 5: 1025, 6: 980, 7: 977, 8: 1003, 9: 1022}\n",
      "First 20 Labels: [1, 8, 5, 1, 5, 7, 4, 3, 8, 2, 7, 2, 0, 1, 5, 9, 6, 2, 0, 8]\n",
      "\n",
      "Example of Image 1000:\n",
      "Image - Min Value: 28 Max Value: 228\n",
      "Image - Shape: (32, 32, 3)\n",
      "Label - Label Id: 7 Name: horse\n"
     ]
    },
    {
     "data": {
      "image/png": "[encoded data removed]",
      "text/plain": [
       "<matplotlib.figure.Figure at 0x932bf7710>"
      ]
     },
     "metadata": {
      "image/png": {
       "height": 250,
       "width": 253
      }
     },
     "output_type": "display_data"
    }
   ],
   "source": [
    "%matplotlib inline\n",
    "%config InlineBackend.figure_format = 'retina'\n",
    "\n",
    "import helper\n",
    "import numpy as np\n",
    "\n",
    "\n",
    "batch_id = 5\n",
    "sample_id =1000\n",
    "helper.display_stats(cifar10_dataset_folder_path, batch_id, sample_id)"
   ]
  },
  {
   "cell_type": "markdown",
   "metadata": {},
   "source": [
    "## 实现预处理函数\n",
    "\n",
    "### 标准化\n",
    "\n",
    "实现 `normalize` 函数，传入图片数据 `x`，并返回标准化 Numpy 数组。值应该在 0 到 1 的范围内。返回对象应该和 `x` 的形状一样。\n"
   ]
  },
  {
   "cell_type": "code",
   "execution_count": 3,
   "metadata": {},
   "outputs": [
    {
     "name": "stdout",
     "output_type": "stream",
     "text": [
      "Tests Passed\n"
     ]
    }
   ],
   "source": [
    "def normalize(x):\n",
    "    \"\"\"\n",
    "    Normalize a list of sample image data in the range of 0 to 1\n",
    "    : x: List of image data.  The image shape is (32, 32, 3)\n",
    "    : return: Numpy array of normalize data\n",
    "    \"\"\"\n",
    "    \n",
    "    normalized_data = (x - np.min(x))/(np.max(x) - np.min(x))\n",
    "    return normalized_data\n",
    "\n",
    "\n",
    "\"\"\"\n",
    "DON'T MODIFY ANYTHING IN THIS CELL THAT IS BELOW THIS LINE\n",
    "\"\"\"\n",
    "tests.test_normalize(normalize)"
   ]
  },
  {
   "cell_type": "markdown",
   "metadata": {},
   "source": [
    "### One-hot 编码\n",
    "\n",
    "实现 `one_hot_encode` 函数，以返回为 one_hot 编码的 Numpy 数组的标签列表。标签的可能值为 0 到 9。每次调用 `one_hot_encode` 时，对于每个值，one_hot 编码函数应该返回相同的编码。"
   ]
  },
  {
   "cell_type": "code",
   "execution_count": 4,
   "metadata": {},
   "outputs": [
    {
     "name": "stdout",
     "output_type": "stream",
     "text": [
      "Tests Passed\n"
     ]
    }
   ],
   "source": [
    "from sklearn import preprocessing\n",
    "def one_hot_encode(x):\n",
    "    \"\"\"\n",
    "    One hot encode a list of sample labels. Return a one-hot encoded vector for each label.\n",
    "    : x: List of sample Labels\n",
    "    : return: Numpy array of one-hot encoded labels\n",
    "    \"\"\"\n",
    "    \n",
    "    lb = preprocessing.LabelBinarizer()\n",
    "    lb.fit(range(10))\n",
    "    one_hot_labels = lb.transform(x)\n",
    "    \n",
    "    return one_hot_labels\n",
    "\n",
    "\n",
    "\"\"\"\n",
    "DON'T MODIFY ANYTHING IN THIS CELL THAT IS BELOW THIS LINE\n",
    "\"\"\"\n",
    "tests.test_one_hot_encode(one_hot_encode)"
   ]
  },
  {
   "cell_type": "markdown",
   "metadata": {},
   "source": [
    "### 随机化数据\n",
    "\n",
    "样本的顺序是随机的,再随机化一次也不会有什么关系，但是对于这个数据集没有必要。\n"
   ]
  },
  {
   "cell_type": "markdown",
   "metadata": {},
   "source": [
    "## 预处理所有数据并保存\n",
    "\n",
    "运行下方的代码单元，将预处理所有 CIFAR-10 数据，并保存到文件中。下面的代码还使用了 10% 的训练数据，用来验证。\n"
   ]
  },
  {
   "cell_type": "code",
   "execution_count": 5,
   "metadata": {
    "collapsed": true
   },
   "outputs": [],
   "source": [
    "\"\"\"\n",
    "DON'T MODIFY ANYTHING IN THIS CELL\n",
    "\"\"\"\n",
    "# Preprocess Training, Validation, and Testing Data\n",
    "helper.preprocess_and_save_data(cifar10_dataset_folder_path, normalize, one_hot_encode)"
   ]
  },
  {
   "cell_type": "markdown",
   "metadata": {},
   "source": [
    "# 检查点"
   ]
  },
  {
   "cell_type": "code",
   "execution_count": 2,
   "metadata": {
    "collapsed": true
   },
   "outputs": [],
   "source": [
    "\"\"\"\n",
    "DON'T MODIFY ANYTHING IN THIS CELL\n",
    "\"\"\"\n",
    "import pickle\n",
    "import problem_unittests as tests\n",
    "import helper\n",
    "\n",
    "# Load the Preprocessed Validation data\n",
    "valid_features, valid_labels = pickle.load(open('preprocess_validation.p', mode='rb'))"
   ]
  },
  {
   "cell_type": "markdown",
   "metadata": {},
   "source": [
    "## 构建网络\n",
    "\n",
    "\n",
    "\n",
    "### 输入\n",
    "\n",
    "神经网络需要读取图片数据、one-hot 编码标签和丢弃保留概率（dropout keep probability）。实现以下函数：\n",
    "\n",
    "* 实现 `neural_net_image_input`\n",
    " * 返回 [TF Placeholder](https://www.tensorflow.org/api_docs/python/tf/placeholder)\n",
    " * 使用 `image_shape` 设置形状，部分大小设为 `None`\n",
    " * 使用 [TF Placeholder](https://www.tensorflow.org/api_docs/python/tf/placeholder) 中的 TensorFlow `name` 参数对 TensorFlow 占位符 \"x\" 命名\n",
    "* 实现 `neural_net_label_input`\n",
    " * 返回 [TF Placeholder](https://www.tensorflow.org/api_docs/python/tf/placeholder)\n",
    " * 使用 `n_classes` 设置形状，部分大小设为 `None`\n",
    " * 使用 [TF Placeholder](https://www.tensorflow.org/api_docs/python/tf/placeholder) 中的 TensorFlow `name` 参数对 TensorFlow 占位符 \"y\" 命名\n",
    "* 实现 `neural_net_keep_prob_input`\n",
    " * 返回 [TF Placeholder](https://www.tensorflow.org/api_docs/python/tf/placeholder)，用于丢弃保留概率\n",
    " * 使用 [TF Placeholder](https://www.tensorflow.org/api_docs/python/tf/placeholder) 中的 TensorFlow `name` 参数对 TensorFlow 占位符 \"keep_prob\" 命名\n",
    "\n",
    "这些名称将在项目结束时，用于加载保存的模型。"
   ]
  },
  {
   "cell_type": "code",
   "execution_count": 3,
   "metadata": {},
   "outputs": [
    {
     "name": "stdout",
     "output_type": "stream",
     "text": [
      "Image Input Tests Passed.\n",
      "Label Input Tests Passed.\n",
      "Keep Prob Tests Passed.\n"
     ]
    }
   ],
   "source": [
    "import tensorflow as tf\n",
    "\n",
    "def neural_net_image_input(image_shape):\n",
    "    \"\"\"\n",
    "    Return a Tensor for a batch of image input\n",
    "    : image_shape: Shape of the images\n",
    "    : return: Tensor for image input.\n",
    "    \"\"\"\n",
    "   \n",
    "    x = tf.placeholder(tf.float32 , shape=[None, image_shape[0], image_shape[1], image_shape[2]], name=\"x\")\n",
    "    return x\n",
    "\n",
    "\n",
    "def neural_net_label_input(n_classes):\n",
    "    \"\"\"\n",
    "    Return a Tensor for a batch of label input\n",
    "    : n_classes: Number of classes\n",
    "    : return: Tensor for label input.\n",
    "    \"\"\"\n",
    "   \n",
    "    y = tf.placeholder(tf.float32 , shape=[None, n_classes] , name=\"y\")\n",
    "    return y\n",
    "\n",
    "\n",
    "def neural_net_keep_prob_input():\n",
    "    \"\"\"\n",
    "    Return a Tensor for keep probability\n",
    "    : return: Tensor for keep probability.\n",
    "    \"\"\"\n",
    "    \n",
    "    keep_prob = tf.placeholder(tf.float32 , name=\"keep_prob\")\n",
    "    return keep_prob\n",
    "\n",
    "\n",
    "\"\"\"\n",
    "DON'T MODIFY ANYTHING IN THIS CELL THAT IS BELOW THIS LINE\n",
    "\"\"\"\n",
    "tf.reset_default_graph()\n",
    "tests.test_nn_image_inputs(neural_net_image_input)\n",
    "tests.test_nn_label_inputs(neural_net_label_input)\n",
    "tests.test_nn_keep_prob_inputs(neural_net_keep_prob_input)"
   ]
  },
  {
   "cell_type": "markdown",
   "metadata": {},
   "source": [
    "### 卷积和最大池化层\n",
    "\n",
    "卷积层级适合处理图片,实现函数 `conv2d_maxpool` 以便应用卷积然后进行最大池化：\n",
    "\n",
    "* 使用 `conv_ksize`、`conv_num_outputs` 和 `x_tensor` 的形状创建权重（weight）和偏置（bias）。\n",
    "* 使用权重和 `conv_strides` 对 `x_tensor` 应用卷积。\n",
    "* 添加偏置\n",
    "* 向卷积中添加非线性激活（nonlinear activation）\n",
    "* 使用 `pool_ksize` 和 `pool_strides` 应用最大池化"
   ]
  },
  {
   "cell_type": "code",
   "execution_count": 42,
   "metadata": {},
   "outputs": [
    {
     "name": "stdout",
     "output_type": "stream",
     "text": [
      "[None, 4, 4, 10]\n",
      "Tests Passed\n"
     ]
    }
   ],
   "source": [
    "def conv2d_maxpool(x_tensor, conv_num_outputs, conv_ksize, conv_strides, pool_ksize, pool_strides):\n",
    "    \"\"\"\n",
    "    Apply convolution then max pooling to x_tensor\n",
    "    :param x_tensor: TensorFlow Tensor\n",
    "    :param conv_num_outputs: Number of outputs for the convolutional layer\n",
    "    :param conv_ksize: kernal size 2-D Tuple for the convolutional layer\n",
    "    :param conv_strides: Stride 2-D Tuple for convolution\n",
    "    :param pool_ksize: kernal size 2-D Tuple for pool\n",
    "    :param pool_strides: Stride 2-D Tuple for pool\n",
    "    : return: A tensor that represents convolution and max pooling of x_tensor\n",
    "    \"\"\"\n",
    "    \n",
    "    \n",
    "    #convolution\n",
    "    weight = tf.Variable(tf.truncated_normal([conv_ksize[0],\n",
    "                                              conv_ksize[1],\n",
    "                                              x_tensor.get_shape().as_list()[3],\n",
    "                                              conv_num_outputs], \n",
    "                                              stddev= 0.08))\n",
    "    \n",
    "    bias = tf.Variable(tf.zeros(conv_num_outputs))\n",
    "    \n",
    "    conv_layer = tf.nn.conv2d(x_tensor, weight, \n",
    "                              strides=[1, conv_strides[0], conv_strides[1], 1], padding='SAME')\n",
    "    \n",
    "    conv_layer = tf.nn.bias_add(conv_layer, bias)\n",
    "    \n",
    "    #max_pooling\n",
    "    conv_layer = tf.nn.max_pool(conv_layer, \n",
    "                                ksize=[1, pool_ksize[0], pool_ksize[1], 1],\n",
    "                                strides=[1, pool_strides[0], pool_strides[1], 1], \n",
    "                                padding='SAME')\n",
    "    \n",
    "    #activation\n",
    "    conv_layer = tf.nn.elu(conv_layer)\n",
    "    \n",
    "    print (conv_layer.get_shape().as_list())\n",
    "    return conv_layer \n",
    "\n",
    "\n",
    "\"\"\"\n",
    "DON'T MODIFY ANYTHING IN THIS CELL THAT IS BELOW THIS LINE\n",
    "\"\"\"\n",
    "tests.test_con_pool(conv2d_maxpool)"
   ]
  },
  {
   "cell_type": "markdown",
   "metadata": {},
   "source": [
    "### 扁平化层\n",
    "\n",
    "实现 `flatten` 函数，将 `x_tensor` 的维度从四维张量（4-D tensor）变成二维张量。输出应该是形状（*部分大小（Batch Size）*，*扁平化图片大小（Flattened Image Size）*）。"
   ]
  },
  {
   "cell_type": "code",
   "execution_count": 43,
   "metadata": {},
   "outputs": [
    {
     "name": "stdout",
     "output_type": "stream",
     "text": [
      "Tests Passed\n"
     ]
    }
   ],
   "source": [
    "def flatten(x_tensor):\n",
    "    \"\"\"\n",
    "    Flatten x_tensor to (Batch Size, Flattened Image Size)\n",
    "    : x_tensor: A tensor of size (Batch Size, ...), where ... are the image dimensions.\n",
    "    : return: A tensor of size (Batch Size, Flattened Image Size).\n",
    "    \"\"\"\n",
    "    \n",
    "    \n",
    "    x_flat = tf.reshape(x_tensor, \n",
    "                        [-1, x_tensor.get_shape().as_list()[1]*x_tensor.get_shape().as_list()[2]*x_tensor.get_shape().as_list()[3]])\n",
    "        \n",
    "    return x_flat\n",
    "\n",
    "\n",
    "\"\"\"\n",
    "DON'T MODIFY ANYTHING IN THIS CELL THAT IS BELOW THIS LINE\n",
    "\"\"\"\n",
    "tests.test_flatten(flatten)"
   ]
  },
  {
   "cell_type": "markdown",
   "metadata": {},
   "source": [
    "### 全连接层\n",
    "\n",
    "实现 `fully_conn` 函数，以向 `x_tensor` 应用完全连接的层级，形状为（*部分大小（Batch Size）*，*num_outputs*）。"
   ]
  },
  {
   "cell_type": "code",
   "execution_count": 44,
   "metadata": {},
   "outputs": [
    {
     "name": "stdout",
     "output_type": "stream",
     "text": [
      "Tests Passed\n"
     ]
    }
   ],
   "source": [
    "def fully_conn(x_tensor, num_outputs):\n",
    "    \"\"\"\n",
    "    Apply a fully connected layer to x_tensor using weight and bias\n",
    "    : x_tensor: A 2-D tensor where the first dimension is batch size.\n",
    "    : num_outputs: The number of output that the new tensor should be.\n",
    "    : return: A 2-D tensor where the second dimension is num_outputs.\n",
    "    \"\"\"\n",
    "    \n",
    "    \n",
    "    weights = tf.Variable(tf.truncated_normal([x_tensor.get_shape().as_list()[1], num_outputs],\n",
    "                                              stddev= 0.08))\n",
    "               \n",
    "    biases = tf.Variable(tf.zeros(num_outputs))\n",
    "    \n",
    "    keep_prob = tf.placeholder(tf.float32)\n",
    "    \n",
    "    hidden_layer = tf.add(tf.matmul(x_tensor, weights), biases)\n",
    "    \n",
    "    hidden_layer = tf.nn.elu(hidden_layer)\n",
    "    \n",
    "    hadden_layer = tf.nn.dropout(hidden_layer, keep_prob)\n",
    "    \n",
    "    return hidden_layer\n",
    "\n",
    "\n",
    "\"\"\"\n",
    "DON'T MODIFY ANYTHING IN THIS CELL THAT IS BELOW THIS LINE\n",
    "\"\"\"\n",
    "tests.test_fully_conn(fully_conn)"
   ]
  },
  {
   "cell_type": "markdown",
   "metadata": {},
   "source": [
    "### 输出层\n",
    "\n",
    "实现 `output` 函数，向 x_tensor 应用完全连接的层级，形状为（*部分大小（Batch Size）*，*num_outputs*）。"
   ]
  },
  {
   "cell_type": "code",
   "execution_count": 45,
   "metadata": {},
   "outputs": [
    {
     "name": "stdout",
     "output_type": "stream",
     "text": [
      "Tests Passed\n"
     ]
    }
   ],
   "source": [
    "def output(x_tensor, num_outputs):\n",
    "    \"\"\"\n",
    "    Apply a output layer to x_tensor using weight and bias\n",
    "    : x_tensor: A 2-D tensor where the first dimension is batch size.\n",
    "    : num_outputs: The number of output that the new tensor should be.\n",
    "    : return: A 2-D tensor where the second dimension is num_outputs.\n",
    "    \"\"\"\n",
    "    \n",
    "    weights = tf.Variable(tf.random_normal([x_tensor.get_shape().as_list()[1], num_outputs],\n",
    "                                           stddev= 0.08))\n",
    "               \n",
    "    biases = tf.Variable(tf.zeros([num_outputs]))\n",
    "    \n",
    "    output = tf.add(tf.matmul(x_tensor, weights), biases)\n",
    "    \n",
    "    return output\n",
    "\n",
    "\n",
    "\"\"\"\n",
    "DON'T MODIFY ANYTHING IN THIS CELL THAT IS BELOW THIS LINE\n",
    "\"\"\"\n",
    "tests.test_output(output)"
   ]
  },
  {
   "cell_type": "markdown",
   "metadata": {},
   "source": [
    "### 创建卷积模型\n",
    "\n",
    "实现函数 `conv_net`， 创建卷积神经网络模型。该函数传入一批图片 `x`，并输出对数（logits）。使用在前面创建的层创建此模型：\n",
    "\n",
    "* 应用 1、2 或 3 个卷积和最大池化层（Convolution and Max Pool layers）\n",
    "* 应用一个扁平层（Flatten Layer）\n",
    "* 应用 1、2 或 3 个完全连接层（Fully Connected Layers）\n",
    "* 应用一个输出层（Output Layer）\n",
    "* 返回输出\n",
    "* 使用 `keep_prob` 向模型中的一个或多个层应用 [TensorFlow 的 Dropout](https://www.tensorflow.org/api_docs/python/tf/nn/dropout)"
   ]
  },
  {
   "cell_type": "code",
   "execution_count": 46,
   "metadata": {},
   "outputs": [
    {
     "name": "stdout",
     "output_type": "stream",
     "text": [
      "[None, 16, 16, 32]\n",
      "[None, 16, 16, 32]\n",
      "[None, 8, 8, 64]\n",
      "[None, 8, 8, 64]\n",
      "[None, 16, 16, 32]\n",
      "[None, 16, 16, 32]\n",
      "[None, 8, 8, 64]\n",
      "[None, 8, 8, 64]\n",
      "Neural Network Built!\n"
     ]
    }
   ],
   "source": [
    "def conv_net(x, keep_prob):\n",
    "    \"\"\"\n",
    "    Create a convolutional neural network model\n",
    "    : x: Placeholder tensor that holds image data.\n",
    "    : keep_prob: Placeholder tensor that hold dropout keep probability.\n",
    "    : return: Tensor that represents logits\n",
    "    \"\"\"\n",
    "    # conv2d_maxpool(x_tensor, conv_num_outputs, conv_ksize, conv_strides, pool_ksize, pool_strides)\n",
    "    \n",
    "    conv_num_outputs = 32\n",
    "    conv_ksize = (3, 3)\n",
    "    conv_strides = (1, 1)\n",
    "    pool_ksize = (3, 3)\n",
    "    pool_strides = (2, 2)\n",
    "    conv_x = conv2d_maxpool(x, conv_num_outputs, conv_ksize, conv_strides, pool_ksize, pool_strides)\n",
    "    print (conv_x.get_shape().as_list())\n",
    "    \n",
    "    \n",
    "    conv_num_outputs = 64\n",
    "    conv_ksize = (3, 3)\n",
    "    conv_strides = (1, 1)\n",
    "    pool_ksize = (3, 3)\n",
    "    pool_strides = (2, 2)\n",
    "    conv_x = conv2d_maxpool(conv_x, conv_num_outputs, conv_ksize, conv_strides, pool_ksize, pool_strides)\n",
    "    print (conv_x.get_shape().as_list())\n",
    "    \n",
    "    \n",
    "    \"\"\"\n",
    "    conv_num_outputs = 128\n",
    "    conv_ksize = (3,3)\n",
    "    conv_strides = (1, 1)\n",
    "    pool_ksize = (3, 3)\n",
    "    pool_strides = (2, 2)\n",
    "    conv_x = conv2d_maxpool(conv_x, conv_num_outputs, conv_ksize, conv_strides, pool_ksize, pool_strides)\n",
    "    print (conv_x.get_shape().as_list())\n",
    "    \"\"\"\n",
    "    \n",
    "\n",
    "    # flatten(x_tensor)\n",
    "    flatten_x = flatten(conv_x)\n",
    "    \n",
    "\n",
    "    # fully_conn(x_tensor, num_outputs)\n",
    "    hidden_layer1 = fully_conn(flatten_x, 1024)\n",
    "    \n",
    "    hidden_layer2 = fully_conn(hidden_layer1, 512)\n",
    "    \n",
    "    hidden_layer3 = fully_conn(hidden_layer2, 256)\n",
    "    \n",
    "    \n",
    "    # output(x_tensor, num_outputs)\n",
    "    \n",
    "    out = output(hidden_layer3, 10)\n",
    "    \n",
    "    \n",
    "    return out\n",
    "\n",
    "\n",
    "\"\"\"\n",
    "DON'T MODIFY ANYTHING IN THIS CELL THAT IS BELOW THIS LINE\n",
    "\"\"\"\n",
    "\n",
    "##############################\n",
    "## Build the Neural Network ##\n",
    "##############################\n",
    "\n",
    "# Remove previous weights, bias, inputs, etc..\n",
    "tf.reset_default_graph()\n",
    "\n",
    "# Inputs\n",
    "x = neural_net_image_input((32, 32, 3))\n",
    "y = neural_net_label_input(10)\n",
    "keep_prob = neural_net_keep_prob_input()\n",
    "\n",
    "# Model\n",
    "logits = conv_net(x, keep_prob)\n",
    "\n",
    "# Name logits Tensor, so that is can be loaded from disk after training\n",
    "logits = tf.identity(logits, name='logits')\n",
    "\n",
    "# Loss and Optimizer\n",
    "cost = tf.reduce_mean(tf.nn.softmax_cross_entropy_with_logits(logits=logits, labels=y))\n",
    "optimizer = tf.train.AdamOptimizer().minimize(cost)\n",
    "\n",
    "# Accuracy\n",
    "correct_pred = tf.equal(tf.argmax(logits, 1), tf.argmax(y, 1))\n",
    "accuracy = tf.reduce_mean(tf.cast(correct_pred, tf.float32), name='accuracy')\n",
    "\n",
    "tests.test_conv_net(conv_net)"
   ]
  },
  {
   "cell_type": "markdown",
   "metadata": {},
   "source": [
    "## 训练神经网络\n",
    "\n",
    "### 单次优化\n",
    "\n",
    "实现函数 `train_neural_network` 以进行单次优化（single optimization）。该优化应该使用 `optimizer` 优化 `session`，其中 `feed_dict` 具有以下参数：\n",
    "\n",
    "* `x` 表示图片输入\n",
    "* `y` 表示标签\n",
    "* `keep_prob` 表示丢弃的保留率"
   ]
  },
  {
   "cell_type": "code",
   "execution_count": 47,
   "metadata": {},
   "outputs": [
    {
     "name": "stdout",
     "output_type": "stream",
     "text": [
      "Tests Passed\n"
     ]
    }
   ],
   "source": [
    "def train_neural_network(session, optimizer, keep_probability, feature_batch, label_batch):\n",
    "    \"\"\"\n",
    "    Optimize the session on a batch of images and labels\n",
    "    : session: Current TensorFlow session\n",
    "    : optimizer: TensorFlow optimizer function\n",
    "    : keep_probability: keep probability\n",
    "    : feature_batch: Batch of Numpy image data\n",
    "    : label_batch: Batch of Numpy label data\n",
    "    \"\"\"\n",
    "    \n",
    "    session.run(optimizer, feed_dict={x:feature_batch, y:label_batch, keep_prob:keep_probability})\n",
    "\n",
    "\n",
    "\"\"\"\n",
    "DON'T MODIFY ANYTHING IN THIS CELL THAT IS BELOW THIS LINE\n",
    "\"\"\"\n",
    "tests.test_train_nn(train_neural_network)"
   ]
  },
  {
   "cell_type": "markdown",
   "metadata": {},
   "source": [
    "### 显示数据\n",
    "\n",
    "实现函数 `print_stats` 以输出损失和验证准确率。使用全局变量 `valid_features` 和 `valid_labels` 计算验证准确率。使用保留率 `1.0` 计算损失和验证准确率（loss and validation accuracy）。\n"
   ]
  },
  {
   "cell_type": "code",
   "execution_count": 48,
   "metadata": {
    "collapsed": true
   },
   "outputs": [],
   "source": [
    "def print_stats(session, feature_batch, label_batch, cost, accuracy):\n",
    "    \"\"\"\n",
    "    Print information about loss and validation accuracy\n",
    "    : session: Current TensorFlow session\n",
    "    : feature_batch: Batch of Numpy image data\n",
    "    : label_batch: Batch of Numpy label data\n",
    "    : cost: TensorFlow cost function\n",
    "    : accuracy: TensorFlow accuracy function\n",
    "    \"\"\"\n",
    "\n",
    "    current_cost = sess.run(cost,\n",
    "                            feed_dict={x: feature_batch, y: label_batch, keep_prob: 1})\n",
    "    valid_accuracy = sess.run(accuracy,\n",
    "                              feed_dict={x: valid_features, y: valid_labels, keep_prob: 1})\n",
    "    print('Loss: {} Valid Accuracy: {}'.format(current_cost, valid_accuracy))"
   ]
  },
  {
   "cell_type": "markdown",
   "metadata": {},
   "source": [
    "### 超参数\n",
    "\n",
    "调试以下超参数：\n",
    "* 设置 `epochs` 表示神经网络停止学习或开始过拟合的迭代次数\n",
    "* 设置 `batch_size`，表示机器内存允许的部分最大体积。大部分人设为以下常见内存大小：\n",
    "\n",
    " * 64\n",
    " * 128\n",
    " * 256\n",
    " * ...\n",
    "* 设置 `keep_probability` 表示使用丢弃时保留节点的概率"
   ]
  },
  {
   "cell_type": "code",
   "execution_count": 53,
   "metadata": {
    "collapsed": true
   },
   "outputs": [],
   "source": [
    "epochs = 15\n",
    "batch_size = 256\n",
    "keep_probability = 0.5"
   ]
  },
  {
   "cell_type": "markdown",
   "metadata": {},
   "source": [
    "### 在单个 CIFAR-10 部分上训练\n",
    "\n",
    "先用单个部分，而不是用所有的 CIFAR-10 批次训练神经网络。这样可以节省时间，并对模型进行迭代，以提高准确率。验证准确率达到 50% 或以上之后，在下一部分对所有数据运行模型。"
   ]
  },
  {
   "cell_type": "code",
   "execution_count": 56,
   "metadata": {
    "scrolled": true
   },
   "outputs": [
    {
     "name": "stdout",
     "output_type": "stream",
     "text": [
      "Checking the Training on a Single Batch...\n",
      "Epoch  1, CIFAR-10 Batch 1:  Loss: 1.6458909511566162 Valid Accuracy: 0.41440001130104065\n",
      "Epoch  2, CIFAR-10 Batch 1:  Loss: 1.113774061203003 Valid Accuracy: 0.5005999803543091\n",
      "Epoch  3, CIFAR-10 Batch 1:  Loss: 0.7932953238487244 Valid Accuracy: 0.5138000249862671\n",
      "Epoch  4, CIFAR-10 Batch 1:  Loss: 0.5773025155067444 Valid Accuracy: 0.5508000254631042\n",
      "Epoch  5, CIFAR-10 Batch 1:  Loss: 0.4070081114768982 Valid Accuracy: 0.5618000030517578\n",
      "Epoch  6, CIFAR-10 Batch 1:  Loss: 0.27223721146583557 Valid Accuracy: 0.5681999921798706\n",
      "Epoch  7, CIFAR-10 Batch 1:  Loss: 0.19416075944900513 Valid Accuracy: 0.5562000274658203\n",
      "Epoch  8, CIFAR-10 Batch 1:  Loss: 0.10097496211528778 Valid Accuracy: 0.5885999798774719\n",
      "Epoch  9, CIFAR-10 Batch 1:  Loss: 0.0867920070886612 Valid Accuracy: 0.5885999798774719\n",
      "Epoch 10, CIFAR-10 Batch 1:  Loss: 0.07023108750581741 Valid Accuracy: 0.5928000211715698\n",
      "Epoch 11, CIFAR-10 Batch 1:  Loss: 0.07009977102279663 Valid Accuracy: 0.5852000117301941\n",
      "Epoch 12, CIFAR-10 Batch 1:  Loss: 0.06316325813531876 Valid Accuracy: 0.553600013256073\n",
      "Epoch 13, CIFAR-10 Batch 1:  Loss: 0.03505203127861023 Valid Accuracy: 0.6010000109672546\n",
      "Epoch 14, CIFAR-10 Batch 1:  Loss: 0.04579903930425644 Valid Accuracy: 0.5400000214576721\n",
      "Epoch 15, CIFAR-10 Batch 1:  Loss: 0.026524771004915237 Valid Accuracy: 0.5703999996185303\n"
     ]
    }
   ],
   "source": [
    "print('Checking the Training on a Single Batch...')\n",
    "with tf.Session() as sess:\n",
    "    # Initializing the variables\n",
    "    sess.run(tf.global_variables_initializer())\n",
    "    \n",
    "    for epoch in range(epochs):\n",
    "        batch_i = 1\n",
    "        for batch_features, batch_labels in helper.load_preprocess_training_batch(batch_i, batch_size):\n",
    "            train_neural_network(sess, optimizer, keep_probability, batch_features, batch_labels)\n",
    "        print('Epoch {:>2}, CIFAR-10 Batch {}:  '.format(epoch + 1, batch_i), end='')\n",
    "        print_stats(sess, batch_features, batch_labels, cost, accuracy)"
   ]
  },
  {
   "cell_type": "markdown",
   "metadata": {},
   "source": [
    "### 完全训练模型\n",
    "\n",
    "试试所有五个部分。"
   ]
  },
  {
   "cell_type": "code",
   "execution_count": 54,
   "metadata": {},
   "outputs": [
    {
     "name": "stdout",
     "output_type": "stream",
     "text": [
      "Training...\n",
      "Epoch  1, CIFAR-10 Batch 1:  Loss: 1.760672926902771 Valid Accuracy: 0.39259999990463257\n",
      "Epoch  1, CIFAR-10 Batch 2:  Loss: 1.3661839962005615 Valid Accuracy: 0.4909999966621399\n",
      "Epoch  1, CIFAR-10 Batch 3:  Loss: 1.044635534286499 Valid Accuracy: 0.5194000005722046\n",
      "Epoch  1, CIFAR-10 Batch 4:  Loss: 1.0430272817611694 Valid Accuracy: 0.5590000152587891\n",
      "Epoch  1, CIFAR-10 Batch 5:  Loss: 1.0577385425567627 Valid Accuracy: 0.5917999744415283\n",
      "Epoch  2, CIFAR-10 Batch 1:  Loss: 0.962519645690918 Valid Accuracy: 0.5712000131607056\n",
      "Epoch  2, CIFAR-10 Batch 2:  Loss: 0.7451847791671753 Valid Accuracy: 0.6208000183105469\n",
      "Epoch  2, CIFAR-10 Batch 3:  Loss: 0.5331921577453613 Valid Accuracy: 0.633400022983551\n",
      "Epoch  2, CIFAR-10 Batch 4:  Loss: 0.5552451014518738 Valid Accuracy: 0.629800021648407\n",
      "Epoch  2, CIFAR-10 Batch 5:  Loss: 0.5865290760993958 Valid Accuracy: 0.6304000020027161\n",
      "Epoch  3, CIFAR-10 Batch 1:  Loss: 0.5393936634063721 Valid Accuracy: 0.6466000080108643\n",
      "Epoch  3, CIFAR-10 Batch 2:  Loss: 0.3672536313533783 Valid Accuracy: 0.6557999849319458\n",
      "Epoch  3, CIFAR-10 Batch 3:  Loss: 0.32615771889686584 Valid Accuracy: 0.6725999712944031\n",
      "Epoch  3, CIFAR-10 Batch 4:  Loss: 0.3325812816619873 Valid Accuracy: 0.6624000072479248\n",
      "Epoch  3, CIFAR-10 Batch 5:  Loss: 0.3192194402217865 Valid Accuracy: 0.6553999781608582\n",
      "Epoch  4, CIFAR-10 Batch 1:  Loss: 0.3387313485145569 Valid Accuracy: 0.6651999950408936\n",
      "Epoch  4, CIFAR-10 Batch 2:  Loss: 0.19568338990211487 Valid Accuracy: 0.6747999787330627\n",
      "Epoch  4, CIFAR-10 Batch 3:  Loss: 0.16935904324054718 Valid Accuracy: 0.6872000098228455\n",
      "Epoch  4, CIFAR-10 Batch 4:  Loss: 0.17583417892456055 Valid Accuracy: 0.6901999711990356\n",
      "Epoch  4, CIFAR-10 Batch 5:  Loss: 0.20080538094043732 Valid Accuracy: 0.6600000262260437\n",
      "Epoch  5, CIFAR-10 Batch 1:  Loss: 0.16570910811424255 Valid Accuracy: 0.6868000030517578\n",
      "Epoch  5, CIFAR-10 Batch 2:  Loss: 0.10378579050302505 Valid Accuracy: 0.6868000030517578\n",
      "Epoch  5, CIFAR-10 Batch 3:  Loss: 0.13064074516296387 Valid Accuracy: 0.6984000205993652\n",
      "Epoch  5, CIFAR-10 Batch 4:  Loss: 0.1331956386566162 Valid Accuracy: 0.6976000070571899\n",
      "Epoch  5, CIFAR-10 Batch 5:  Loss: 0.10010717064142227 Valid Accuracy: 0.6944000124931335\n",
      "Epoch  6, CIFAR-10 Batch 1:  Loss: 0.10184846073389053 Valid Accuracy: 0.6898000240325928\n",
      "Epoch  6, CIFAR-10 Batch 2:  Loss: 0.07019446790218353 Valid Accuracy: 0.7020000219345093\n",
      "Epoch  6, CIFAR-10 Batch 3:  Loss: 0.06808312982320786 Valid Accuracy: 0.7107999920845032\n",
      "Epoch  6, CIFAR-10 Batch 4:  Loss: 0.07627902179956436 Valid Accuracy: 0.694599986076355\n",
      "Epoch  6, CIFAR-10 Batch 5:  Loss: 0.06567618995904922 Valid Accuracy: 0.7056000232696533\n",
      "Epoch  7, CIFAR-10 Batch 1:  Loss: 0.0508585087954998 Valid Accuracy: 0.7034000158309937\n",
      "Epoch  7, CIFAR-10 Batch 2:  Loss: 0.0432366281747818 Valid Accuracy: 0.6761999726295471\n",
      "Epoch  7, CIFAR-10 Batch 3:  Loss: 0.03191589564085007 Valid Accuracy: 0.7135999798774719\n",
      "Epoch  7, CIFAR-10 Batch 4:  Loss: 0.059442829340696335 Valid Accuracy: 0.6823999881744385\n",
      "Epoch  7, CIFAR-10 Batch 5:  Loss: 0.042178455740213394 Valid Accuracy: 0.692799985408783\n",
      "Epoch  8, CIFAR-10 Batch 1:  Loss: 0.04094870761036873 Valid Accuracy: 0.6909999847412109\n",
      "Epoch  8, CIFAR-10 Batch 2:  Loss: 0.025819161906838417 Valid Accuracy: 0.6953999996185303\n",
      "Epoch  8, CIFAR-10 Batch 3:  Loss: 0.03276856988668442 Valid Accuracy: 0.7139999866485596\n",
      "Epoch  8, CIFAR-10 Batch 4:  Loss: 0.034559279680252075 Valid Accuracy: 0.7035999894142151\n",
      "Epoch  8, CIFAR-10 Batch 5:  Loss: 0.023511653766036034 Valid Accuracy: 0.6898000240325928\n",
      "Epoch  9, CIFAR-10 Batch 1:  Loss: 0.021862324327230453 Valid Accuracy: 0.7089999914169312\n",
      "Epoch  9, CIFAR-10 Batch 2:  Loss: 0.016598617658019066 Valid Accuracy: 0.7084000110626221\n",
      "Epoch  9, CIFAR-10 Batch 3:  Loss: 0.019825056195259094 Valid Accuracy: 0.6972000002861023\n",
      "Epoch  9, CIFAR-10 Batch 4:  Loss: 0.02589436247944832 Valid Accuracy: 0.7008000016212463\n",
      "Epoch  9, CIFAR-10 Batch 5:  Loss: 0.026079103350639343 Valid Accuracy: 0.6833999752998352\n",
      "Epoch 10, CIFAR-10 Batch 1:  Loss: 0.013308396562933922 Valid Accuracy: 0.6984000205993652\n",
      "Epoch 10, CIFAR-10 Batch 2:  Loss: 0.011000554077327251 Valid Accuracy: 0.6991999745368958\n",
      "Epoch 10, CIFAR-10 Batch 3:  Loss: 0.011780491098761559 Valid Accuracy: 0.6926000118255615\n",
      "Epoch 10, CIFAR-10 Batch 4:  Loss: 0.026274651288986206 Valid Accuracy: 0.6886000037193298\n",
      "Epoch 10, CIFAR-10 Batch 5:  Loss: 0.00978734903037548 Valid Accuracy: 0.6926000118255615\n",
      "Epoch 11, CIFAR-10 Batch 1:  Loss: 0.006246850825846195 Valid Accuracy: 0.7067999839782715\n",
      "Epoch 11, CIFAR-10 Batch 2:  Loss: 0.007294508628547192 Valid Accuracy: 0.682200014591217\n",
      "Epoch 11, CIFAR-10 Batch 3:  Loss: 0.01275998167693615 Valid Accuracy: 0.7013999819755554\n",
      "Epoch 11, CIFAR-10 Batch 4:  Loss: 0.020531145855784416 Valid Accuracy: 0.6764000058174133\n",
      "Epoch 11, CIFAR-10 Batch 5:  Loss: 0.01215330045670271 Valid Accuracy: 0.7098000049591064\n",
      "Epoch 12, CIFAR-10 Batch 1:  Loss: 0.01090783067047596 Valid Accuracy: 0.6970000267028809\n",
      "Epoch 12, CIFAR-10 Batch 2:  Loss: 0.0066232518292963505 Valid Accuracy: 0.6904000043869019\n",
      "Epoch 12, CIFAR-10 Batch 3:  Loss: 0.012350852601230145 Valid Accuracy: 0.6980000138282776\n",
      "Epoch 12, CIFAR-10 Batch 4:  Loss: 0.006357644684612751 Valid Accuracy: 0.6953999996185303\n",
      "Epoch 12, CIFAR-10 Batch 5:  Loss: 0.010273103602230549 Valid Accuracy: 0.703000009059906\n",
      "Epoch 13, CIFAR-10 Batch 1:  Loss: 0.0047979759983718395 Valid Accuracy: 0.7059999704360962\n",
      "Epoch 13, CIFAR-10 Batch 2:  Loss: 0.002946936758235097 Valid Accuracy: 0.7062000036239624\n",
      "Epoch 13, CIFAR-10 Batch 3:  Loss: 0.003660291898995638 Valid Accuracy: 0.7063999772071838\n",
      "Epoch 13, CIFAR-10 Batch 4:  Loss: 0.004833681508898735 Valid Accuracy: 0.7084000110626221\n",
      "Epoch 13, CIFAR-10 Batch 5:  Loss: 0.00428954791277647 Valid Accuracy: 0.7182000279426575\n",
      "Epoch 14, CIFAR-10 Batch 1:  Loss: 0.004621910396963358 Valid Accuracy: 0.7121999859809875\n",
      "Epoch 14, CIFAR-10 Batch 2:  Loss: 0.0037160024512559175 Valid Accuracy: 0.7188000082969666\n",
      "Epoch 14, CIFAR-10 Batch 3:  Loss: 0.0011336829047650099 Valid Accuracy: 0.715399980545044\n",
      "Epoch 14, CIFAR-10 Batch 4:  Loss: 0.0063592432998120785 Valid Accuracy: 0.7008000016212463\n",
      "Epoch 14, CIFAR-10 Batch 5:  Loss: 0.003242270555347204 Valid Accuracy: 0.7129999995231628\n",
      "Epoch 15, CIFAR-10 Batch 1:  Loss: 0.0019459191244095564 Valid Accuracy: 0.7129999995231628\n",
      "Epoch 15, CIFAR-10 Batch 2:  Loss: 0.0008118196274153888 Valid Accuracy: 0.7170000076293945\n",
      "Epoch 15, CIFAR-10 Batch 3:  Loss: 0.002286802511662245 Valid Accuracy: 0.7152000069618225\n",
      "Epoch 15, CIFAR-10 Batch 4:  Loss: 0.0038909963332116604 Valid Accuracy: 0.7024000287055969\n",
      "Epoch 15, CIFAR-10 Batch 5:  Loss: 0.0023198078852146864 Valid Accuracy: 0.7009999752044678\n"
     ]
    }
   ],
   "source": [
    "save_model_path = './image_classification'\n",
    "\n",
    "print('Training...')\n",
    "with tf.Session() as sess:\n",
    "    # Initializing the variables\n",
    "    sess.run(tf.global_variables_initializer())\n",
    "    \n",
    "    # Training cycle\n",
    "    for epoch in range(epochs):\n",
    "        # Loop over all batches\n",
    "        n_batches = 5\n",
    "        for batch_i in range(1, n_batches + 1):\n",
    "            for batch_features, batch_labels in helper.load_preprocess_training_batch(batch_i, batch_size):\n",
    "                train_neural_network(sess, optimizer, keep_probability, batch_features, batch_labels)\n",
    "            print('Epoch {:>2}, CIFAR-10 Batch {}:  '.format(epoch + 1, batch_i), end='')\n",
    "            print_stats(sess, batch_features, batch_labels, cost, accuracy)\n",
    "            \n",
    "    # Save Model\n",
    "    saver = tf.train.Saver()\n",
    "    save_path = saver.save(sess, save_model_path)"
   ]
  },
  {
   "cell_type": "markdown",
   "metadata": {},
   "source": [
    "# 检查点\n",
    "\n",
    "模型已保存到本地。\n",
    "\n",
    "## 测试模型\n",
    "\n",
    "利用测试数据集测试你的模型。"
   ]
  },
  {
   "cell_type": "code",
   "execution_count": 55,
   "metadata": {},
   "outputs": [
    {
     "name": "stdout",
     "output_type": "stream",
     "text": [
      "Testing Accuracy: 0.70234375\n",
      "\n"
     ]
    },
    {
     "data": {
      "image/png": "[encoded data removed]",
      "text/plain": [
       "<matplotlib.figure.Figure at 0x26cb87f60b8>"
      ]
     },
     "metadata": {
      "image/png": {
       "height": 319,
       "width": 355
      }
     },
     "output_type": "display_data"
    }
   ],
   "source": [
    "%matplotlib inline\n",
    "%config InlineBackend.figure_format = 'retina'\n",
    "\n",
    "import tensorflow as tf\n",
    "import pickle\n",
    "import helper\n",
    "import random\n",
    "\n",
    "# Set batch size if not already set\n",
    "try:\n",
    "    if batch_size:\n",
    "        pass\n",
    "except NameError:\n",
    "    batch_size = 64\n",
    "\n",
    "save_model_path = './image_classification'\n",
    "n_samples = 4\n",
    "top_n_predictions = 3\n",
    "\n",
    "def test_model():\n",
    "    \"\"\"\n",
    "    Test the saved model against the test dataset\n",
    "    \"\"\"\n",
    "\n",
    "    test_features, test_labels = pickle.load(open('preprocess_test.p', mode='rb'))\n",
    "    loaded_graph = tf.Graph()\n",
    "\n",
    "    with tf.Session(graph=loaded_graph) as sess:\n",
    "        # Load model\n",
    "        loader = tf.train.import_meta_graph(save_model_path + '.meta')\n",
    "        loader.restore(sess, save_model_path)\n",
    "\n",
    "        # Get Tensors from loaded model\n",
    "        loaded_x = loaded_graph.get_tensor_by_name('x:0')\n",
    "        loaded_y = loaded_graph.get_tensor_by_name('y:0')\n",
    "        loaded_keep_prob = loaded_graph.get_tensor_by_name('keep_prob:0')\n",
    "        loaded_logits = loaded_graph.get_tensor_by_name('logits:0')\n",
    "        loaded_acc = loaded_graph.get_tensor_by_name('accuracy:0')\n",
    "        \n",
    "        # Get accuracy in batches for memory limitations\n",
    "        test_batch_acc_total = 0\n",
    "        test_batch_count = 0\n",
    "        \n",
    "        for test_feature_batch, test_label_batch in helper.batch_features_labels(test_features, test_labels, batch_size):\n",
    "            test_batch_acc_total += sess.run(\n",
    "                loaded_acc,\n",
    "                feed_dict={loaded_x: test_feature_batch, loaded_y: test_label_batch, loaded_keep_prob: 1.0})\n",
    "            test_batch_count += 1\n",
    "\n",
    "        print('Testing Accuracy: {}\\n'.format(test_batch_acc_total/test_batch_count))\n",
    "\n",
    "        # Print Random Samples\n",
    "        random_test_features, random_test_labels = tuple(zip(*random.sample(list(zip(test_features, test_labels)), n_samples)))\n",
    "        random_test_predictions = sess.run(\n",
    "            tf.nn.top_k(tf.nn.softmax(loaded_logits), top_n_predictions),\n",
    "            feed_dict={loaded_x: random_test_features, loaded_y: random_test_labels, loaded_keep_prob: 1.0})\n",
    "        helper.display_image_predictions(random_test_features, random_test_labels, random_test_predictions)\n",
    "\n",
    "\n",
    "test_model()"
   ]
  },
  {
   "cell_type": "markdown",
   "metadata": {},
   "source": [
    "## 为何准确率只有70%？\n",
    "\n",
    "对于简单的 CNN 网络来说，50% 已经不低了。纯粹猜测的准确率为10%。但是，你可能注意到有的准确率[远远超过 80%](http://rodrigob.github.io/are_we_there_yet/build/classification_datasets_results.html#43494641522d3130)。这是因为此项目还未应用到所有的神经网络知识和技巧。"
   ]
  },
  {
   "cell_type": "code",
   "execution_count": null,
   "metadata": {
    "collapsed": true
   },
   "outputs": [],
   "source": []
  }
 ],
 "metadata": {
  "kernelspec": {
   "display_name": "Python 3",
   "language": "python",
   "name": "python3"
  },
  "language_info": {
   "codemirror_mode": {
    "name": "ipython",
    "version": 3
   },
   "file_extension": ".py",
   "mimetype": "text/x-python",
   "name": "python",
   "nbconvert_exporter": "python",
   "pygments_lexer": "ipython3",
   "version": "3.5.4"
  }
 },
 "nbformat": 4,
 "nbformat_minor": 1
}
